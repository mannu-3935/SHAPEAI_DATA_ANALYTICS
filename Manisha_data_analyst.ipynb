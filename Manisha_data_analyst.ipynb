{
  "nbformat": 4,
  "nbformat_minor": 0,
  "metadata": {
    "colab": {
      "name": "Manisha_data_analyst.ipynb",
      "provenance": [],
      "collapsed_sections": [],
      "toc_visible": true
    },
    "kernelspec": {
      "name": "python3",
      "display_name": "Python 3"
    },
    "language_info": {
      "name": "python"
    }
  },
  "cells": [
    {
      "cell_type": "code",
      "metadata": {
        "colab": {
          "base_uri": "https://localhost:8080/"
        },
        "id": "WzBYQK6ZdF4o",
        "outputId": "f6b885a1-b4d9-4da3-ec34-5fb342489869"
      },
      "source": [
        "import pandas as pd\n",
        "import numpy as np\n",
        "\n",
        "df = pd.DataFrame(pd.read_csv('/content/train1.csv')) # to load the dataset of train file here\n",
        "\n",
        "df.head()                           # to view first 5 rows of dataset\n",
        "df.shape                           # will tell us about the no of rows and columns\n",
        "df.isnull().sum()                   # will count and tell us if there is any null values in any column\n",
        "\n",
        "drop_col = df.isnull().sum()[df.isnull().sum() > (35/100 * df.shape[0])]     # we are dropping those columns which have more than 35% of null values\n",
        "drop_col\n",
        "\n",
        "drop_col.index\n",
        "\n",
        "df.drop(drop_col.index, axis =1, inplace= True)\n",
        "df.isnull().sum()                                   # cabin got dropped now\n",
        "\n",
        "df.fillna(df.mean(), inplace= True)\n",
        "df.isnull().sum()\n",
        "\n",
        "df['Embarked'].describe()\n",
        "df['Embarked'].fillna('S',inplace = True)\n",
        "df.isnull().sum()\n",
        "\n",
        "df.corr()\n",
        "\n",
        "df['FamilySize'] = df['SibSp']+ df['Parch']\n",
        "df.drop(['SibSp','Parch'], axis =1, inplace = True)\n",
        "df.corr()\n",
        "\n",
        "df['Alone'] = [0 if df['FamilySize'][i]>0 else 1 for i in df.index]\n",
        "df.head()\n",
        "\n",
        "df.groupby(['Alone'])['Survived'].mean()\n",
        "\n",
        "df[['Alone','Fare']].corr()\n",
        "\n",
        "df['Sex'] = [0 if df['Sex'][i]=='male' else 1 for i in df.index]\n",
        "df.groupby(['Sex'])['Survived'].mean()\n",
        "\n",
        "df.groupby(['Embarked'])['Survived'].mean()\n",
        "\n",
        "\n",
        "# CONCLUSION:\n",
        "\n",
        "# 1) Female passengers were prioritized over man.\n",
        "# 2) People who were high status orr rich people have higher survival rate than others. The hierarichy might have been followed when\n",
        "#  the passengers were saved.\n",
        "# 3) Passengers travelling with their family have higher survival rate.\n",
        "# 4) Passengers who borded the ship at Cherbourg, survived more in proportion then the others.\n",
        "\n",
        "\n",
        "\n",
        "\n",
        "\n",
        "\n",
        "\n",
        "\n",
        "\n"
      ],
      "execution_count": 11,
      "outputs": [
        {
          "output_type": "execute_result",
          "data": {
            "text/plain": [
              "Embarked\n",
              "C    0.553571\n",
              "Q    0.389610\n",
              "S    0.339009\n",
              "Name: Survived, dtype: float64"
            ]
          },
          "metadata": {
            "tags": []
          },
          "execution_count": 11
        }
      ]
    }
  ]
}